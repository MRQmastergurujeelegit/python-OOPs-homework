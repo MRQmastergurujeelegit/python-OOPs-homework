{
  "nbformat": 4,
  "nbformat_minor": 0,
  "metadata": {
    "colab": {
      "provenance": []
    },
    "kernelspec": {
      "name": "python3",
      "display_name": "Python 3"
    },
    "language_info": {
      "name": "python"
    }
  },
  "cells": [
    {
      "cell_type": "code",
      "execution_count": 1,
      "metadata": {
        "colab": {
          "base_uri": "https://localhost:8080/"
        },
        "id": "Av0hgN9nOOdR",
        "outputId": "a41232e3-5f08-4593-e781-fc70ceda216f"
      },
      "outputs": [
        {
          "output_type": "stream",
          "name": "stdout",
          "text": [
            "You enrolled on new course named:  python Machine learning\n",
            "Your grade is  A\n"
          ]
        }
      ],
      "source": [
        "class Student_Mangement_System:\n",
        "  def __init__(self,name,age,roll_no):\n",
        "    self.name = name\n",
        "    self.age = age\n",
        "    self.roll_no = roll_no\n",
        "    self.grade = \"\"\n",
        "\n",
        "  def enroll_course(self,new_course):\n",
        "    print(\"You enrolled on new course named: \", new_course)\n",
        "\n",
        "  def change_grade(self,new_grade):\n",
        "    self.grade = new_grade\n",
        "\n",
        "  def view_grade(self):\n",
        "    print(\"Your grade is \",self.grade)\n",
        "\n",
        "Rayyan = Student_Mangement_System(\"Rayyan\",12,1325)\n",
        "Rayyan.enroll_course(\"python Machine learning\")\n",
        "Rayyan.change_grade(\"A\")\n",
        "Rayyan.view_grade()"
      ]
    }
  ]
}